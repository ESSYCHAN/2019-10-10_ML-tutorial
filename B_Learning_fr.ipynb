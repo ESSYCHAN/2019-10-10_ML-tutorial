{
 "cells": [
  {
   "cell_type": "code",
   "execution_count": null,
   "metadata": {},
   "outputs": [],
   "source": [
    "import matplotlib.pyplot as plt\n",
    "import numpy as np\n",
    "%matplotlib inline"
   ]
  },
  {
   "cell_type": "markdown",
   "metadata": {},
   "source": [
    "# Classification d'image\n",
    "\n",
    "Dans ce tutoriel nous allons étudier plus en détail comment construire un réseau simple à l'aide de pytorch : [LeNet](http://yann.lecun.com/exdb/publis/pdf/lecun-01a.pdf) créé par Yann LeCun.\n",
    "Le code présent dans ce tutoriel est basé sur un [exemple](https://github.com/pytorch/examples/blob/master/mnist/main.py) écrit en langage `pytorch`.\n",
    "\n",
    "Ce réseau est un réseau convolutif qui à pour but de faire de la classification d'image.\n",
    "\n",
    "Ce [tuto](https://www.superdatascience.com/blogs/the-ultimate-guide-to-convolutional-neural-networks-cnn) vous permettra d'aller plus en détail dans l'explication de ce réseau"
   ]
  },
  {
   "cell_type": "code",
   "execution_count": null,
   "metadata": {},
   "outputs": [],
   "source": [
    "import torch\n",
    "import torch.nn as nn\n",
    "import torch.nn.functional as F\n",
    "import torch.optim as optim\n",
    "from torchvision import datasets, transforms\n",
    "\n",
    "torch.manual_seed(1)\n",
    "use_cuda = torch.cuda.is_available()"
   ]
  },
  {
   "cell_type": "markdown",
   "metadata": {},
   "source": [
    "## étape 1 : définition des image train et eval"
   ]
  },
  {
   "cell_type": "markdown",
   "metadata": {},
   "source": [
    "Il est important pour commencer de définir les images sur lequel nous allons travailler.\n",
    "Ici, nous travaillerons sur le dataset MNIST, contenant des images de chiffres écrit à la main.\n",
    "\n",
    "![MNIST](https://knowm.org/wp-content/uploads/Screen-Shot-2015-08-14-at-2.44.57-PM.png)\n",
    "\n",
    "Le réseau aura pour but de déterminer quel chiffre est écrit sur l'image. Pour cela il vas faloir qu'il apprenne à classifier corectement les images avec un dataset d'entraînement. Il pourra ensuite tester son apprentissage avec un second dataset (dit de validation).\n",
    "\n",
    "(Ces deux dataset doivent être différents.)"
   ]
  },
  {
   "cell_type": "code",
   "execution_count": null,
   "metadata": {},
   "outputs": [],
   "source": [
    "# taille du batch d'entrainement\n",
    "train_batch_size = 64\n",
    "# taille du batch de test\n",
    "test_batch_size = 1000\n",
    "\n",
    "# transformation des datas\n",
    "transform = transforms.Compose([transforms.ToTensor(), transforms.Normalize((0.1307,), (0.3081,))])\n",
    "\n",
    "kwargs = {'num_workers': 1, 'pin_memory': True} if use_cuda else {}\n",
    "\n",
    "\n",
    "# importation du dataset\n",
    "dataset = datasets.MNIST('images', download=True, transform=transform)\n",
    "\n",
    "# nombre d'image pour l'entraînement (80% des données totales)\n",
    "nb_train = int(0.8*len(dataset))\n",
    "# nombre d'image pour le test (le reste des données)\n",
    "nb_test  = len(dataset)-nb_train\n",
    "\n",
    "# separation des données en deux datasets\n",
    "train_dataset, test_dataset = torch.utils.data.random_split(dataset, [nb_train, nb_test])\n",
    "\n",
    "\n",
    "# Chargement des données\n",
    "train_loader = torch.utils.data.DataLoader(dataset=train_dataset, batch_size=train_batch_size, shuffle=True, **kwargs)\n",
    "test_loader = torch.utils.data.DataLoader(dataset=test_dataset, batch_size=test_batch_size,  shuffle=True, **kwargs)"
   ]
  },
  {
   "cell_type": "code",
   "execution_count": null,
   "metadata": {},
   "outputs": [],
   "source": [
    "print(\"Le set d'entraînement contient {} images, dans {} batches de {} images\".format(len(train_loader.dataset),\n",
    "                                                                                      len(train_loader),\n",
    "                                                                                      train_batch_size))\n",
    "print(\"Le set de test contient {} images, dans {} batches de {} images\".format(len(test_loader.dataset),\n",
    "                                                                               len(test_loader),\n",
    "                                                                               test_batch_size))"
   ]
  },
  {
   "cell_type": "markdown",
   "metadata": {},
   "source": [
    "## étape 2 : Réseau"
   ]
  },
  {
   "cell_type": "code",
   "execution_count": null,
   "metadata": {},
   "outputs": [],
   "source": [
    "class Net(nn.Module):\n",
    "    def __init__(self):\n",
    "        super(Net, self).__init__()\n",
    "        self.conv1 = nn.Conv2d(1, 20, 5, 1) # convolution 1\n",
    "        self.conv2 = nn.Conv2d(20, 50, 5, 1) # convolution 2\n",
    "        self.fc1 = nn.Linear(4*4*50, 500) # fully connected 1\n",
    "        self.fc2 = nn.Linear(500, 10) # fully connected 2\n",
    "\n",
    "    def forward(self, x):\n",
    "        # Extraction de caractéristiques 1\n",
    "        x = F.relu(self.conv1(x)) # activation\n",
    "        x = F.max_pool2d(x, 2, 2) # pooling\n",
    "        \n",
    "        # Extraction de caractéristiques 2\n",
    "        x = F.relu(self.conv2(x)) # activation\n",
    "        x = F.max_pool2d(x, 2, 2) # pooling\n",
    "        x = x.view(-1, 4*4*50) # flattening\n",
    "        \n",
    "        # Classification\n",
    "        x = F.relu(self.fc1(x)) # activation\n",
    "        x = self.fc2(x)\n",
    "        return F.log_softmax(x, dim=1)"
   ]
  },
  {
   "cell_type": "markdown",
   "metadata": {},
   "source": [
    "le réseau LeNet comprend deux principales étapes :\n",
    "- l'extraction des caractéristique de l'image\n",
    "- la classification de cette image en fonction de ses caractéristiques\n",
    "\n",
    "<img src=\"https://miro.medium.com/max/3712/1*7K4ZTTfZb-hbjoADbisHAg.png\" width=\"600\"/>"
   ]
  },
  {
   "cell_type": "markdown",
   "metadata": {},
   "source": [
    "### extraction des caractéristique de l'image"
   ]
  },
  {
   "cell_type": "markdown",
   "metadata": {},
   "source": [
    "pour extraire ses caractéristiques l'image vas subir une série de modification : \n",
    "\n",
    "- une **convolution** (voir [Conv2d](https://pytorch.org/docs/stable/nn.html#conv2d), [paramêtres en image](https://github.com/vdumoulin/conv_arithmetic/blob/master/README.md))\n",
    "     - une convolution est une fonction dérivée de deux fonctions données par intégration qui exprime comment la forme de l'une est modifiée par l'autre\n",
    "     - l'image est convoluer par des détecteurs de caractéristiques (appelé kernel)\n",
    "     - Attention l'entrée chaque couche de convolution doit faire la même taille que la sortie de la couche de convolution précédante\n",
    "<img src=\"https://stanford.edu/~shervine/images/convolution-layer-a.png\" width=\"600\"/>\n",
    "<img src=\"https://sds-platform-private.s3-us-east-2.amazonaws.com/uploads/35_blog_image_11.png\" width=\"600\"/>\n",
    "\n",
    "- une **fonction d'activation** : fonction d'Unité de Rectification Linéaire (voir [ReLu()](https://pytorch.org/docs/stable/nn.html#relu))\n",
    "    - pour ne garder que les valeurs positives dans les carte de caratéristiques engendré par la convolution\n",
    "    - ReLU(x)=max(0,x) <img src=\"https://pytorch.org/docs/stable/_images/ReLU.png\" width=\"400\"/>\n",
    "\n",
    "\n",
    "\n",
    "- un **Pooling** : Max Pooling (voir [MaxPool2d](https://pytorch.org/docs/stable/nn.html#maxpool2d))\n",
    "    - pour ne garder que les valeurs maximales dans une zone\n",
    "    - réduit les carte de caractéristique\n",
    "<img src=\"https://upload.wikimedia.org/wikipedia/commons/e/e9/Max_pooling.png\" width=\"300\"/>"
   ]
  },
  {
   "cell_type": "code",
   "execution_count": null,
   "metadata": {},
   "outputs": [],
   "source": [
    "inputs = list(dict(iter(train_loader)).keys())\n",
    "\n",
    "from convolution import Plot_img_conv\n",
    "Plot_img_conv(inputs[13][13]);"
   ]
  },
  {
   "cell_type": "markdown",
   "metadata": {},
   "source": [
    "### Classification"
   ]
  },
  {
   "cell_type": "markdown",
   "metadata": {},
   "source": [
    "- **fully connected** - Linear (voir [Linear](https://pytorch.org/docs/stable/nn.html#linear))\n",
    "    - c'est un réseau dans lequel tous les neurones de sorties sont connectés à tous les neurones d'entrée\n",
    "    - Applique une transformation linéaire aux données entrantes\n",
    "<img src=\"https://jdlm.info/assets/driverless/27-fully-connected.png\" width=\"900\"/>     \n",
    "\n",
    "- log_softmax (voir [log_softmax](https://pytorch.org/docs/stable/nn.functional.html#log-softmax))"
   ]
  },
  {
   "cell_type": "markdown",
   "metadata": {},
   "source": [
    "## étape 3 : Entrainement du Réseau"
   ]
  },
  {
   "cell_type": "markdown",
   "metadata": {},
   "source": [
    "- définition **Fonction loss** + trouver la bonne ! [wiki](https://fr.wikipedia.org/wiki/R%C3%A9seau_neuronal_convolutif)\n",
    "\n",
    "    La couche de perte spécifie comment l'entrainement du réseau pénalise l'écart entre le signal prévu et réel. Elle est normalement la dernière couche dans le réseau.\n",
    "\n",
    "    Diverses fonctions de perte adaptées à différentes tâches peuvent y être utilisées [loss-functions](https://pytorch.org/docs/stable/nn.functional.html#loss-functions) :\n",
    "    - La perte « Softmax »est utilisée pour prédire une seule classe parmi K classes mutuellement exclusives.\n",
    "    - La perte par entropie croisée sigmoïde est utilisée pour prédire K valeurs de probabilité indépendante dans [0,1].\n",
    "    - La perte euclidienne est utilisée pour régresser vers des valeurs réelles dans [-inf ,inf].\n",
    "\n",
    "The negative log likelihood loss -> permet de maximiser l'erreur quand le bon label a une probabilité faible et de la diminuer quand bon label a probabilité élevé !\n",
    "\n",
    "- **Backpropagation**\n",
    "    - l'erreur calculer se propage dans les première couche du réseau\n",
    "<img src=\"https://d3i71xaburhd42.cloudfront.net/db39fd79bb591b04d33207992f6ccde03cabd861/7-Figure1-1.png\" width=\"400\"/>\n",
    "\n",
    "    - Pour effectuer la backpropagation en pytorch, les étapes suivantes sont nécessaires à chaque itération de la boucle :\n",
    "\n",
    "        1. **optimizer.zero_grad()** : remet à zero les gradiants de chaque paramètre.\n",
    "        2. **loss.backward()** : calcule les gradiants pour chaque variable par backpropagation en fonction de la loss, et les stocke dans l’objet Variable\n",
    "        3. **optimizer.step()** : Modifie chaque paramètre du modèle (poids des réseaux) de manière à minimiser la loss.\n",
    "\n"
   ]
  },
  {
   "cell_type": "code",
   "execution_count": null,
   "metadata": {},
   "outputs": [],
   "source": [
    "def train(model, device, train_loader, optimizer, epoch, log_interval):\n",
    "    model.train() # mettre en mode entrainement\n",
    "    for batch_idx, (data, target) in enumerate(train_loader):\n",
    "        data, target = data.to(device), target.to(device)\n",
    "        \n",
    "        optimizer.zero_grad() # important ! remet les gradients à 0\n",
    "        output = model(data) # calcule la prédiction\n",
    "        loss = F.nll_loss(output, target) # calcule l'erreur : The negative log likelihood loss.\n",
    "        loss.backward() # dérive le graphe\n",
    "        optimizer.step() # effectue une étape d'optimisation\n",
    "        \n",
    "        if batch_idx % log_interval == 0:\n",
    "            print('Train Epoch: {} [{}/{} ({:.0f}%)]\\tLoss: {:.6f}'.format(\n",
    "                epoch, batch_idx * len(data), len(train_loader.dataset),\n",
    "                100. * batch_idx / len(train_loader), loss.item()))"
   ]
  },
  {
   "cell_type": "code",
   "execution_count": null,
   "metadata": {
    "scrolled": true
   },
   "outputs": [],
   "source": [
    "# on indique au modèle si on veux travailler sur un GPU ou un CPU\n",
    "device = torch.device(\"cuda\" if use_cuda else \"cpu\")\n",
    "model = Net().to(device)\n",
    "\n",
    "# l'optimiseur permet de mettre calculer les poids du réseau\n",
    "optimizer = optim.SGD(model.parameters(), lr=0.01, momentum=0.5)\n",
    "\n",
    "train(model, device, train_loader, optimizer, 0, 749)"
   ]
  },
  {
   "cell_type": "markdown",
   "metadata": {},
   "source": [
    "## étape 3 : Test du Réseau"
   ]
  },
  {
   "cell_type": "code",
   "execution_count": null,
   "metadata": {},
   "outputs": [],
   "source": [
    "def test(model, device, test_loader):\n",
    "    model.eval()\n",
    "    test_loss = 0\n",
    "    correct = 0\n",
    "    with torch.no_grad():\n",
    "        for data, target in test_loader:\n",
    "            data, target = data.to(device), target.to(device)\n",
    "            \n",
    "            output = model(data)\n",
    "            test_loss += F.nll_loss(output, target, reduction='sum').item() # sum up batch loss\n",
    "            pred = output.argmax(dim=1, keepdim=True) # get the index of the max log-probability\n",
    "            correct += pred.eq(target.view_as(pred)).sum().item()\n",
    "\n",
    "    test_loss /= len(test_loader.dataset)\n",
    "\n",
    "    print('\\nTest set: Average loss: {:.4f}, Accuracy: {}/{} ({:.0f}%)\\n'.format(\n",
    "        test_loss, correct, len(test_loader.dataset), 100. * correct/len(test_loader.dataset)))\n",
    "    return(100. * correct/len(test_loader.dataset))"
   ]
  },
  {
   "cell_type": "markdown",
   "metadata": {},
   "source": [
    "on vas tester le modèle pour 15 essais"
   ]
  },
  {
   "cell_type": "code",
   "execution_count": null,
   "metadata": {},
   "outputs": [],
   "source": [
    "N_test = 15\n",
    "dict_test = dict(iter(test_loader))\n",
    "inps = list(dict_test.keys())\n",
    "inp = inps[0][:N_test]\n",
    "targ = dict_test[inps[0]][:N_test]\n",
    "\n",
    "i = inp.view(inp.shape[0], 1, inp.shape[2], inp.shape[3])\n",
    "\n",
    "out = model(i.to(device))\n",
    "pred = out.argmax(dim=1, keepdim=True)\n",
    "print('target :', targ,\n",
    "      '\\nprediction :', pred.to('cpu').view(-1),\n",
    "      '\\nnumber of good predictions :', pred.eq(targ.to(device).view_as(pred)).sum().item(),\n",
    "      '\\ntotal number predictions :', N_test)      "
   ]
  },
  {
   "cell_type": "markdown",
   "metadata": {},
   "source": [
    "## étape 4 : évolution de l'erreur au cour de l'apprentissage"
   ]
  },
  {
   "cell_type": "markdown",
   "metadata": {},
   "source": [
    "on entraine le modèle sur plusieurs epoch en le testant pour chaque epoch afin de voir sont évolution"
   ]
  },
  {
   "cell_type": "code",
   "execution_count": null,
   "metadata": {},
   "outputs": [],
   "source": [
    "# on indique au modèle si on veux travailler sur un GPU ou un CPU\n",
    "device = torch.device(\"cuda\" if use_cuda else \"cpu\")\n",
    "model = Net().to(device)\n",
    "# l'optimiseur permet de mettre calculer les poids du réseau\n",
    "optimizer = optim.SGD(model.parameters(), lr=0.01, momentum=0.5)"
   ]
  },
  {
   "cell_type": "code",
   "execution_count": null,
   "metadata": {},
   "outputs": [],
   "source": [
    "#########################################################\n",
    "# pour remmettre a zeros les poids dans le modèle !\n",
    "#########################################################\n",
    "def weight_reset(m):\n",
    "    if isinstance(m, nn.Conv2d) or isinstance(m, nn.Linear):\n",
    "        m.reset_parameters()\n",
    "\n",
    "model.apply(weight_reset)\n",
    "#########################################################"
   ]
  },
  {
   "cell_type": "code",
   "execution_count": null,
   "metadata": {
    "scrolled": false
   },
   "outputs": [],
   "source": [
    "epochs = 15\n",
    "log_interval = 749\n",
    "\n",
    "list_accuracy = []\n",
    "for epoch in range(1, epochs + 1):\n",
    "    train(model, device, train_loader, optimizer, epoch, log_interval)\n",
    "    accuracy = test(model, device, test_loader)\n",
    "    list_accuracy.append(accuracy)\n",
    "\n",
    "# sauvegarde du modèle\n",
    "torch.save(model.state_dict(),\"mnist_cnn.pt\")"
   ]
  },
  {
   "cell_type": "code",
   "execution_count": null,
   "metadata": {},
   "outputs": [],
   "source": [
    "plt.plot(np.arange(1,len(list_accuracy)+1), list_accuracy, 'k')\n",
    "plt.xlabel('epoch')\n",
    "plt.ylabel('Accuracy')\n",
    "plt.axis([0.9,len(list_accuracy)+0.1,90,100]);"
   ]
  },
  {
   "cell_type": "markdown",
   "metadata": {},
   "source": [
    "## Visualisation des Kernels des deux convolutions du réseau"
   ]
  },
  {
   "cell_type": "markdown",
   "metadata": {},
   "source": [
    "Les kernels utilisé par le modèle sont stockés dans :\n",
    "- `model.conv1.weight` pour le première convolution\n",
    "- `model.conv2.weight` pour la deuxième convolution"
   ]
  },
  {
   "cell_type": "code",
   "execution_count": null,
   "metadata": {},
   "outputs": [],
   "source": [
    "from convolution import transform_img"
   ]
  },
  {
   "cell_type": "markdown",
   "metadata": {},
   "source": [
    "**Tous les kernel de la convolution 1 :**"
   ]
  },
  {
   "cell_type": "code",
   "execution_count": null,
   "metadata": {
    "scrolled": false
   },
   "outputs": [],
   "source": [
    "fig, ax = plt.subplots(4,5, figsize=(15,15))\n",
    "for num_w in range(model.conv1.weight.shape[0]) :\n",
    "    w = model.conv1.weight[num_w].to('cpu')\n",
    "    \n",
    "    a, b = num_w//5, num_w%5\n",
    "    ax[a][b].imshow(transform_img(w), cmap=plt.magma)\n",
    "    ax[a][b].set_title(num_w+1)\n",
    "    ax[a][b].set_xticks([]) ; ax[a][b].set_yticks([])\n",
    "plt.show()"
   ]
  },
  {
   "cell_type": "markdown",
   "metadata": {},
   "source": [
    "**Tous les kernel de la convolution 2 pour les cartes de caratéristique du première kernel de la convolution 1 :**"
   ]
  },
  {
   "cell_type": "code",
   "execution_count": null,
   "metadata": {
    "scrolled": false
   },
   "outputs": [],
   "source": [
    "fig, ax = plt.subplots(10,5, figsize=(15,15))\n",
    "for num_w in range(model.conv2.weight.shape[0]) :\n",
    "    w = model.conv2.weight[num_w][0].view(1,5,5).to('cpu')\n",
    "    \n",
    "    a, b = num_w//5, num_w%5\n",
    "    ax[a][b].imshow(transform_img(w))\n",
    "    ax[a][b].set_title(num_w+1)\n",
    "    ax[a][b].set_xticks([]) ; ax[a][b].set_yticks([])\n",
    "plt.tight_layout(pad=0)\n",
    "plt.show()"
   ]
  }
 ],
 "metadata": {
  "kernelspec": {
   "display_name": "Python 3",
   "language": "python",
   "name": "python3"
  },
  "language_info": {
   "codemirror_mode": {
    "name": "ipython",
    "version": 3
   },
   "file_extension": ".py",
   "mimetype": "text/x-python",
   "name": "python",
   "nbconvert_exporter": "python",
   "pygments_lexer": "ipython3",
   "version": "3.7.4"
  }
 },
 "nbformat": 4,
 "nbformat_minor": 2
}
